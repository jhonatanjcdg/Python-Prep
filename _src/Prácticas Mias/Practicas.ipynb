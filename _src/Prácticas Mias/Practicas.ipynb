{
 "cells": [
  {
   "cell_type": "code",
   "execution_count": 6,
   "metadata": {},
   "outputs": [
    {
     "name": "stdout",
     "output_type": "stream",
     "text": [
      "El resultado de 1 - 5 es: -4\n"
     ]
    }
   ],
   "source": [
    "n1 = int(input(\"Digite el primer número\"))\n",
    "n2 = int(input(\"Digite el segundo número\"))\n",
    "op = input(\"Digite la operación que desea realizar:(+,-,*,/)\")\n",
    "result = 0\n",
    "signo = \"\"\n",
    "if(op == '+'):\n",
    "    signo = '+'\n",
    "    result = n1+n2\n",
    "elif(op == '-'):\n",
    "    signo = '-'\n",
    "    result = n1-n2\n",
    "elif(op == '*'):\n",
    "    signo = '*'\n",
    "    result = n1*n2\n",
    "elif(op == '/'):\n",
    "    signo = '/'\n",
    "    result = n1/n2\n",
    "else:\n",
    "    print(\"No digitó ninguno de los signos propuestos\")\n",
    "    SystemExit\n",
    "print(\"El resultado de\",n1,signo,n2,'es:',result)\n",
    "    "
   ]
  },
  {
   "cell_type": "code",
   "execution_count": 22,
   "metadata": {},
   "outputs": [
    {
     "name": "stdout",
     "output_type": "stream",
     "text": [
      "[0, 2, 4, 6, 8]\n",
      "4.0\n"
     ]
    }
   ],
   "source": [
    "li = []\n",
    "prom = 0\n",
    "tam = 5\n",
    "for n in range(0,tam):\n",
    "    m = int(input(\"Digite un número: \"))\n",
    "    li.append(m)\n",
    "    prom += li[n]\n",
    "li.sort()\n",
    "prom = prom/tam\n",
    "print(li)\n",
    "print(prom)"
   ]
  },
  {
   "cell_type": "code",
   "execution_count": 40,
   "metadata": {},
   "outputs": [
    {
     "name": "stdout",
     "output_type": "stream",
     "text": [
      "[0, 1, 2, 3, 4, 5, 6, 7, 8, 9]\n",
      "[0, 9, 1, 8, 2, 7, 3, 6, 4, 5]\n"
     ]
    }
   ],
   "source": [
    "l = [0,1,2,3,4,5,6,7,8,9]\n",
    "newL = []\n",
    "for n in range(0,5):\n",
    "    min = l[n]\n",
    "    max = l[len(l)-n-1]\n",
    "    l2 = [min,max]\n",
    "    newL.extend(l2)\n",
    "print(l)\n",
    "print(newL)"
   ]
  },
  {
   "cell_type": "code",
   "execution_count": 47,
   "metadata": {},
   "outputs": [
    {
     "name": "stdout",
     "output_type": "stream",
     "text": [
      "(7, 8, 9) (4, 5, 6)\n",
      "((1, 2, 3), 4)\n"
     ]
    }
   ],
   "source": [
    "l1 = ['Primero','Segundo','Tercero']\n",
    "t2 = (4,5,6)\n",
    "t1 = (1,2,3)\n",
    "t3 = (7,8,9)\n",
    "d1 = {l1[0]:t1,l1[1]:t2,l1[2]:t3}\n",
    "print(d1['Tercero'],d1['Segundo'])\n",
    "d1['Primero']\n",
    "print(d1['Primero'])"
   ]
  },
  {
   "cell_type": "code",
   "execution_count": 38,
   "metadata": {},
   "outputs": [
    {
     "name": "stdout",
     "output_type": "stream",
     "text": [
      "[1, 2, 4]\n"
     ]
    }
   ],
   "source": [
    "l1 = []\n",
    "while(True)\n",
    "print(l1)"
   ]
  }
 ],
 "metadata": {
  "kernelspec": {
   "display_name": "Python 3",
   "language": "python",
   "name": "python3"
  },
  "language_info": {
   "codemirror_mode": {
    "name": "ipython",
    "version": 3
   },
   "file_extension": ".py",
   "mimetype": "text/x-python",
   "name": "python",
   "nbconvert_exporter": "python",
   "pygments_lexer": "ipython3",
   "version": "3.10.0"
  },
  "orig_nbformat": 4
 },
 "nbformat": 4,
 "nbformat_minor": 2
}
